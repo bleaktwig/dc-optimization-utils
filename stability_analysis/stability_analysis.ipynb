{
 "cells": [
  {
   "cell_type": "code",
   "execution_count": 1,
   "metadata": {},
   "outputs": [],
   "source": [
    "import numpy as np\n",
    "import matplotlib.pyplot as plt\n",
    "\n",
    "plt.style.use(\"seaborn-poster\")\n",
    "%matplotlib inline"
   ]
  },
  {
   "cell_type": "markdown",
   "metadata": {},
   "source": [
    "# dy/dt = -ay"
   ]
  },
  {
   "cell_type": "code",
   "execution_count": 2,
   "metadata": {},
   "outputs": [],
   "source": [
    "def explicit_euler(dydt, h, t_i, y_i):\n",
    "    return y_i + h*dydt(t_i, y_i)\n",
    "\n",
    "def rk4(dydt, h, t_i, y_i):\n",
    "    k1 = dydt(t_i,       y_i)\n",
    "    k2 = dydt(t_i + h/2, y_i + k1*h/2)\n",
    "    k3 = dydt(t_i + h/2, y_i + k2*h/2)\n",
    "    k4 = dydt(t_i + h,   y_i + k3*h)\n",
    "    return y_i + (k1/6 + k2/3 + k3/3 + k4/6)*h\n",
    "\n",
    "def abm4(dydt, dydt_2, dydt_1, dydt_0, h, t_3, y_2):\n",
    "    y_3 = y_2 + h*((23/12)*dydt_2 - (16/12)*dydt_1 + (5/12)*dydt_0) # \"Fake\" y_3 using AB4.\n",
    "    return y_2 + h*((9/24)*dydt(t_3, y_3) + (19/24)*dydt_2 - (5/24)*dydt_1 + (1/24)*dydt_0) # \"Real\" y_3 using AM4."
   ]
  },
  {
   "cell_type": "markdown",
   "metadata": {},
   "source": [
    "## Stability computation"
   ]
  },
  {
   "cell_type": "code",
   "execution_count": 3,
   "metadata": {},
   "outputs": [],
   "source": [
    "from sympy import *\n",
    "init_printing()\n",
    "t_i, y_i, a, h = symbols(\"t_i y_i a h\", real=True)\n",
    "dfdt = lambda t, y: -a*y"
   ]
  },
  {
   "cell_type": "code",
   "execution_count": 4,
   "metadata": {},
   "outputs": [
    {
     "data": {
      "image/png": "[encoded data removed]",
      "text/latex": [
       "$\\displaystyle \\left[ 0, \\  \\frac{2}{a}\\right]$"
      ],
      "text/plain": [
       "⎡   2⎤\n",
       "⎢0, ─⎥\n",
       "⎣   a⎦"
      ]
     },
     "execution_count": 4,
     "metadata": {},
     "output_type": "execute_result"
    }
   ],
   "source": [
    "# Explicit euler.\n",
    "y_next = explicit_euler(dfdt, h, t_i, y_i)\n",
    "expr = simplify(Abs(y_next/y_i) - 1)\n",
    "solve(expr, h)"
   ]
  },
  {
   "cell_type": "code",
   "execution_count": 5,
   "metadata": {},
   "outputs": [
    {
     "data": {
      "image/png": "[encoded data removed]",
      "text/latex": [
       "$\\displaystyle \\frac{\\left|{a^{4} h^{4} - 4 a^{3} h^{3} + 12 a^{2} h^{2} - 24 a h + 24}\\right|}{24} - 1$"
      ],
      "text/plain": [
       "│ 4  4      3  3       2  2              │    \n",
       "│a ⋅h  - 4⋅a ⋅h  + 12⋅a ⋅h  - 24⋅a⋅h + 24│    \n",
       "────────────────────────────────────────── - 1\n",
       "                    24                        "
      ]
     },
     "execution_count": 5,
     "metadata": {},
     "output_type": "execute_result"
    }
   ],
   "source": [
    "# RK4.\n",
    "y_next = rk4(dfdt, h, t_i, y_i)\n",
    "expr = simplify(Abs(y_next/y_i) - 1)\n",
    "expr"
   ]
  },
  {
   "cell_type": "markdown",
   "metadata": {},
   "source": [
    "## Step size comparison (a = 5, y0 = 16)"
   ]
  },
  {
   "cell_type": "code",
   "execution_count": null,
   "metadata": {},
   "outputs": [],
   "source": [
    "# ODE to solve: dy/dt = -5y\n",
    "dfdt = lambda t, y: -5*y"
   ]
  },
  {
   "cell_type": "code",
   "execution_count": null,
   "metadata": {},
   "outputs": [],
   "source": [
    "def euler_plt(h, y0, tmax):\n",
    "    t = np.arange(0, tmax+h, h)\n",
    "    y = np.zeros(len(t))\n",
    "    y[0] = y0\n",
    "    for i in range(1, len(t)):\n",
    "        y[i] = explicit_euler(dfdt, h, t[i-1], y[i-1])\n",
    "\n",
    "    plt.figure(figsize = (20, 8))\n",
    "    plt.plot(t, y0*np.exp(-5*t), 'g', label=\"Exact Solution\")\n",
    "    plt.plot(t, y,               'b', label=\"Explicit Euler (h = \" + str(h) + \")\")\n",
    "    plt.xlabel(\"t (h = \" + str(h) + \")\")\n",
    "    plt.ylabel(\"y(t)\")\n",
    "    plt.grid()\n",
    "    plt.legend(loc=\"upper right\")\n",
    "    plt.show()"
   ]
  },
  {
   "cell_type": "code",
   "execution_count": null,
   "metadata": {},
   "outputs": [],
   "source": [
    "y0   = 16\n",
    "tmax = 2"
   ]
  },
  {
   "cell_type": "code",
   "execution_count": null,
   "metadata": {
    "scrolled": false
   },
   "outputs": [],
   "source": [
    "euler_plt(0.01, y0, tmax)\n",
    "euler_plt(0.05, y0, tmax)\n",
    "euler_plt(0.1,  y0, tmax)\n",
    "euler_plt(0.2,  y0, tmax)\n",
    "euler_plt(0.4,  y0, tmax)\n",
    "euler_plt(0.5,  y0, tmax)"
   ]
  },
  {
   "cell_type": "markdown",
   "metadata": {},
   "source": [
    "## Method comparison (a=5, y0=16)"
   ]
  },
  {
   "cell_type": "code",
   "execution_count": null,
   "metadata": {},
   "outputs": [],
   "source": [
    "def method_comparison(h, y0, tmax):\n",
    "    t = np.arange(0, tmax+h, h)\n",
    "\n",
    "    # Explicit (forward) euler.\n",
    "    y_euler    = np.zeros(len(t))\n",
    "    y_euler[0] = y0\n",
    "\n",
    "    for i in range(1, len(t)):\n",
    "        y_euler[i] = explicit_euler(dfdt, h, t[i-1], y_euler[i-1])\n",
    "\n",
    "    # Runge Kutta 4.\n",
    "    y_rk4      = np.zeros(len(t))\n",
    "    y_rk4[0]   = y0\n",
    "\n",
    "    for i in range(1, len(t)):\n",
    "        y_rk4[i] = rk4(dfdt, h, t[i-1], y_rk4[i-1])\n",
    "\n",
    "    # Adams-Bashforth-Moulton 4.\n",
    "    y_abm4       = np.zeros(len(t))\n",
    "    y_abm4[0]    = y0\n",
    "    dydt_abm4    = np.zeros(len(t))\n",
    "    dydt_abm4[0] = dfdt(t[0], y_abm4[0])\n",
    "\n",
    "    for i in range(1, 3): # First 2 iterations done in RK4.\n",
    "        y_abm4[i]    = rk4(dfdt, h, t[i-1], y_abm4[i-1])\n",
    "        dydt_abm4[i] = dfdt(t[i], y_abm4[i]) # Store relevant derivatives to avoid re-computing.\n",
    "\n",
    "    for i in range(3, len(t)): # Following iterations done in ABM4.\n",
    "        y_abm4[i]    = abm4(dfdt, dydt_abm4[i-1], dydt_abm4[i-2], dydt_abm4[i-3], h, t[i], y_abm4[i-1])\n",
    "        dydt_abm4[i] = dfdt(t[i], y_abm4[i])\n",
    "\n",
    "    plt.figure(figsize = (20, 8))\n",
    "    plt.plot(t, y0*np.exp(-5*t), 'g', label=\"Exact Solution\")\n",
    "    plt.plot(t, y_euler,         'b', label=\"Explicit Euler\")\n",
    "    plt.plot(t, y_rk4,           'r', label=\"Runge-Kutta4\")\n",
    "    plt.plot(t, y_abm4,          'y', label=\"Adams-Bashforth-Moulton4\")\n",
    "    plt.xlabel(\"t (h = \" + str(h) + \")\")\n",
    "    plt.ylabel(\"y(t)\")\n",
    "    plt.grid()\n",
    "    plt.legend(loc=\"upper right\")\n",
    "    plt.show()"
   ]
  },
  {
   "cell_type": "code",
   "execution_count": null,
   "metadata": {
    "scrolled": false
   },
   "outputs": [],
   "source": [
    "y0   = 16\n",
    "tmax = 2\n",
    "\n",
    "method_comparison(0.01, y0, tmax)\n",
    "method_comparison(0.05, y0, tmax)\n",
    "method_comparison(0.1,  y0, tmax)\n",
    "method_comparison(0.2,  y0, tmax)\n",
    "method_comparison(0.4,  y0, tmax)\n",
    "method_comparison(0.5,  y0, tmax)"
   ]
  },
  {
   "cell_type": "code",
   "execution_count": null,
   "metadata": {},
   "outputs": [],
   "source": []
  }
 ],
 "metadata": {
  "kernelspec": {
   "display_name": "Python 3",
   "language": "python",
   "name": "python3"
  },
  "language_info": {
   "codemirror_mode": {
    "name": "ipython",
    "version": 3
   },
   "file_extension": ".py",
   "mimetype": "text/x-python",
   "name": "python",
   "nbconvert_exporter": "python",
   "pygments_lexer": "ipython3",
   "version": "3.8.10"
  }
 },
 "nbformat": 4,
 "nbformat_minor": 4
}
